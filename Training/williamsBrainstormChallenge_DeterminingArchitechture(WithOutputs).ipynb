{
 "cells": [
  {
   "cell_type": "code",
   "execution_count": 1,
   "metadata": {},
   "outputs": [
    {
     "name": "stdout",
     "output_type": "stream",
     "text": [
      "71.43\n"
     ]
    }
   ],
   "source": [
    "#Step 0. User Input - Datset of Interest\n",
    "hypothesis = 2\n",
    "\n",
    "if hypothesis == 1:\n",
    "    fileName = 'autoRAFeaturesDataT1vsT2_FullAlpha.csv'\n",
    "elif hypothesis == 2:\n",
    "    fileName = 'autoRAFeaturesDataT1vsT3_FullAlpha.csv'\n",
    "else:\n",
    "    print('Analysis not supported. Please use hypothesis = 1 or hypothesis = 2.')\n",
    "    \n",
    "#Step 1. Load Modules\n",
    "#import os\n",
    "import numpy as np\n",
    "import matplotlib.pyplot as plt\n",
    "from autora.skl.darts import DARTSRegressor, ValueType, DARTSExecutionMonitor\n",
    "from sklearn.preprocessing import StandardScaler\n",
    "from sklearn.model_selection import GridSearchCV, train_test_split\n",
    "import copy\n",
    "from IPython.display import clear_output\n",
    "import pickle\n",
    "import time\n",
    "\n",
    "# Step 2. Load Data, Split Into Predictors and Outcomes, and Normalize Predictors\n",
    "#Load Data \n",
    "featuresData = np.genfromtxt(fileName, delimiter=',')\n",
    "scaler = StandardScaler()\n",
    "featuresData[:,1:] = scaler.fit_transform(featuresData[:,1:])\n",
    "\n",
    "#Split data into predictors and outcomes\n",
    "outcomes = featuresData[:,0]\n",
    "predictors = featuresData[:,1:]\n",
    "\n",
    "# Step 3. Iterate Through Data Using the Leave-One-Out Method\n",
    "\n",
    "\n",
    "PRIMITIVES = [\n",
    "    \"none\",\n",
    "    \"linear\",\n",
    "    \"linear_logistic\",\n",
    "    \"linear_relu\",\n",
    "    \"linear_sin\",\n",
    "    \"linear_tanh\"\n",
    "    ]\n",
    "\n",
    "avgAccuracies =[]\n",
    "x=1\n",
    "for run in range(1000):\n",
    "    #try:\n",
    "    accuracies = []\n",
    "    print((x/1000)*100)\n",
    "    x+=1\n",
    "\n",
    "    # General DARTS meta-parameters\n",
    "    num_graph_nodes = 1\n",
    "    max_epochs = 300\n",
    "    sampling_strategy = 'max'\n",
    "\n",
    "    # Meta-parameters for the architecture updates\n",
    "    arch_updates_per_epoch = 1\n",
    "    arch_learning_rate_max = 0.01\n",
    "    arch_weight_decay = 3e-4\n",
    "    arch_weight_decay_df = 0.01\n",
    "\n",
    "    # Meta-parameters for the parameter updates\n",
    "    param_updates_per_epoch = 100\n",
    "    param_learning_rate_max = 0.025\n",
    "    param_learning_rate_min = 0.01\n",
    "    param_weight_decay = 3e-4\n",
    "    param_momentum = 0.90\n",
    "    param_updates_for_sampled_model = 1000\n",
    "\n",
    "    # Meta-parameters for the classifier\n",
    "    train_classifier_bias=True,\n",
    "    train_classifier_coefficients=True\n",
    "\n",
    "    # we will add this monitor to display the training performance\n",
    "    execution_monitor_0 = DARTSExecutionMonitor()\n",
    "\n",
    "    # run DARTS\n",
    "    darts_estimator = DARTSRegressor(\n",
    "        execution_monitor = execution_monitor_0.execution_monitor,\n",
    "        num_graph_nodes = num_graph_nodes,\n",
    "        max_epochs = max_epochs,\n",
    "        arch_updates_per_epoch = arch_updates_per_epoch,\n",
    "        arch_learning_rate_max = arch_learning_rate_max,\n",
    "        arch_weight_decay = arch_weight_decay,\n",
    "        arch_weight_decay_df = arch_weight_decay_df,\n",
    "        param_updates_per_epoch = param_updates_per_epoch,\n",
    "        param_learning_rate_max = param_learning_rate_max,\n",
    "        param_learning_rate_min = param_learning_rate_min,\n",
    "        param_weight_decay = param_weight_decay,\n",
    "        param_momentum = param_momentum,\n",
    "        train_classifier_bias = train_classifier_bias,\n",
    "        train_classifier_coefficients = train_classifier_coefficients,\n",
    "        output_type=ValueType.PROBABILITY,\n",
    "        primitives=PRIMITIVES,\n",
    "    )\n",
    "\n",
    "    darts_estimator.fit(predictors, outcomes)\n",
    "\n",
    "    #Saving architecture\n",
    "    fixedArchitecture = copy.deepcopy(darts_estimator.network_)\n",
    "    fullArchitecture = copy.deepcopy(darts_estimator)\n",
    "\n",
    "    for participant in range(len(featuresData)):\n",
    "\n",
    "        #To be explicit (although techinically unecessary), we will force the same, fixed architecture\n",
    "        darts_estimator.network_ = fixedArchitecture\n",
    "\n",
    "        #Determine final DARTS Architecture \n",
    "        darts_estimator.set_params(\n",
    "            max_epochs = 0,\n",
    "            arch_updates_per_epoch = 0,\n",
    "            num_graph_nodes = 1,\n",
    "            param_learning_rate_max = 0.025,\n",
    "            arch_weight_decay_df = 0.01,\n",
    "            arch_learning_rate_max = 0.01\n",
    "        )\n",
    "\n",
    "        #Split current data\n",
    "        X_test = featuresData[participant,1:]\n",
    "        X_test = X_test.reshape(1, -1)\n",
    "        y_test = featuresData[participant,0]\n",
    "\n",
    "        X_train = featuresData[:,1:]\n",
    "        X_train = np.delete(X_train, participant, 0)\n",
    "        y_train = featuresData[:,0]\n",
    "        y_train = np.delete(y_train, participant)\n",
    "\n",
    "        #Fit the new coefficients \n",
    "        darts_estimator.fit(X_train, y_train)\n",
    "\n",
    "        #Evaluate the model\n",
    "        y_predicted = darts_estimator.predict(X_test)\n",
    "        accuracy = 1 - np.mean(np.abs(np.round(y_predicted.T)-y_test))\n",
    "        accuracies.append(accuracy)\n",
    "    clear_output(wait=True)\n",
    "    print(round(np.mean(accuracies)*100,2))\n",
    "    avgAccuracies.append(round(np.mean(accuracies)*100,2))\n",
    "\n",
    "    with open('williamsBrainstormChallenge_SearchArchitecture.txt', 'a') as f:\n",
    "        stringToWrite = str(round(np.mean(accuracies)*100,4)) + '\\n'\n",
    "        f.write(stringToWrite)\n",
    "\n",
    "    if np.mean(accuracies)*100 >= 70:\n",
    "        filename = 'williamsBrainstormChallenge_Architecture.pickle'\n",
    "        with open(filename, 'wb') as handle:\n",
    "            pickle.dump(fullArchitecture, handle, protocol=pickle.HIGHEST_PROTOCOL)\n",
    "        break\n",
    "\n",
    "    #except:\n",
    "    #    pass"
   ]
  },
  {
   "cell_type": "code",
   "execution_count": 2,
   "metadata": {},
   "outputs": [
    {
     "name": "stdout",
     "output_type": "stream",
     "text": [
      "Model:\n",
      "k1 = sin(2.65 * x2 + -2.40)\n",
      "y1 = -2.26 * k1 + 0.46696842\n"
     ]
    },
    {
     "data": {
      "image/svg+xml": [
       "<?xml version=\"1.0\" encoding=\"UTF-8\" standalone=\"no\"?>\n",
       "<!DOCTYPE svg PUBLIC \"-//W3C//DTD SVG 1.1//EN\"\n",
       " \"http://www.w3.org/Graphics/SVG/1.1/DTD/svg11.dtd\">\n",
       "<!-- Generated by graphviz version 5.0.1 (20220821.0811)\n",
       " -->\n",
       "<!-- Pages: 1 -->\n",
       "<svg width=\"662pt\" height=\"102pt\"\n",
       " viewBox=\"0.00 0.00 662.00 102.00\" xmlns=\"http://www.w3.org/2000/svg\" xmlns:xlink=\"http://www.w3.org/1999/xlink\">\n",
       "<g id=\"graph0\" class=\"graph\" transform=\"scale(1 1) rotate(0) translate(4 98)\">\n",
       "<polygon fill=\"white\" stroke=\"none\" points=\"-4,4 -4,-98 658,-98 658,4 -4,4\"/>\n",
       "<!-- x1 -->\n",
       "<g id=\"node1\" class=\"node\">\n",
       "<title>x1</title>\n",
       "<polygon fill=\"#f1edb9\" stroke=\"black\" stroke-width=\"2\" points=\"36,-36 0,-36 0,0 36,0 36,-36\"/>\n",
       "<text text-anchor=\"middle\" x=\"18\" y=\"-13\" font-family=\"times\" font-size=\"20.00\">x1</text>\n",
       "</g>\n",
       "<!-- x2 -->\n",
       "<g id=\"node2\" class=\"node\">\n",
       "<title>x2</title>\n",
       "<polygon fill=\"#f1edb9\" stroke=\"black\" stroke-width=\"2\" points=\"36,-90 0,-90 0,-54 36,-54 36,-90\"/>\n",
       "<text text-anchor=\"middle\" x=\"18\" y=\"-67\" font-family=\"times\" font-size=\"20.00\">x2</text>\n",
       "</g>\n",
       "<!-- k1 -->\n",
       "<g id=\"node3\" class=\"node\">\n",
       "<title>k1</title>\n",
       "<polygon fill=\"#bbccf9\" stroke=\"black\" stroke-width=\"2\" points=\"272,-90 236,-90 236,-54 272,-54 272,-90\"/>\n",
       "<text text-anchor=\"middle\" x=\"254\" y=\"-67\" font-family=\"times\" font-size=\"20.00\">k1</text>\n",
       "</g>\n",
       "<!-- x2&#45;&gt;k1 -->\n",
       "<g id=\"edge1\" class=\"edge\">\n",
       "<title>x2&#45;&gt;k1</title>\n",
       "<path fill=\"none\" stroke=\"black\" d=\"M36.21,-72C76.44,-72 176.92,-72 225.65,-72\"/>\n",
       "<polygon fill=\"gray\" stroke=\"black\" points=\"225.77,-75.5 235.77,-72 225.77,-68.5 225.77,-75.5\"/>\n",
       "<text text-anchor=\"middle\" x=\"136\" y=\"-78\" font-family=\"times\" font-size=\"20.00\">sin(2.65 * x + &#45;2.40)</text>\n",
       "</g>\n",
       "<!-- P(detected) = Sigmoid(x + 0.47) -->\n",
       "<g id=\"node4\" class=\"node\">\n",
       "<title>P(detected) = Sigmoid(x + 0.47)</title>\n",
       "<polygon fill=\"#cbe7c7\" stroke=\"black\" stroke-width=\"2\" points=\"654,-90 380,-90 380,-54 654,-54 654,-90\"/>\n",
       "<text text-anchor=\"middle\" x=\"517\" y=\"-67\" font-family=\"times\" font-size=\"20.00\">P(detected) = Sigmoid(x + 0.47)</text>\n",
       "</g>\n",
       "<!-- k1&#45;&gt;P(detected) = Sigmoid(x + 0.47) -->\n",
       "<g id=\"edge2\" class=\"edge\">\n",
       "<title>k1&#45;&gt;P(detected) = Sigmoid(x + 0.47)</title>\n",
       "<path fill=\"none\" stroke=\"black\" d=\"M272.12,-72C293.03,-72 330.51,-72 369.91,-72\"/>\n",
       "<polygon fill=\"gray\" stroke=\"black\" points=\"369.96,-75.5 379.96,-72 369.96,-68.5 369.96,-75.5\"/>\n",
       "<text text-anchor=\"middle\" x=\"326\" y=\"-78\" font-family=\"times\" font-size=\"20.00\">&#45;2.26 * x</text>\n",
       "</g>\n",
       "</g>\n",
       "</svg>\n"
      ],
      "text/plain": [
       "<graphviz.dot.Digraph at 0x7fef54f09a30>"
      ]
     },
     "execution_count": 2,
     "metadata": {},
     "output_type": "execute_result"
    }
   ],
   "source": [
    "print(fullArchitecture.model_repr())\n",
    "fullArchitecture.visualize_model()"
   ]
  },
  {
   "cell_type": "code",
   "execution_count": 3,
   "metadata": {},
   "outputs": [
    {
     "data": {
      "application/json": {
       "ascii": false,
       "bar_format": null,
       "colour": null,
       "elapsed": 0.013652563095092773,
       "initial": 0,
       "n": 0,
       "ncols": null,
       "nrows": null,
       "postfix": null,
       "prefix": "",
       "rate": null,
       "total": 0,
       "unit": "it",
       "unit_divisor": 1000,
       "unit_scale": false
      },
      "application/vnd.jupyter.widget-view+json": {
       "model_id": "eda5805a716c410d8ac12888ef048c4a",
       "version_major": 2,
       "version_minor": 0
      },
      "text/plain": [
       "0it [00:00, ?it/s]"
      ]
     },
     "metadata": {},
     "output_type": "display_data"
    },
    {
     "name": "stdout",
     "output_type": "stream",
     "text": [
      "Model:\n",
      "k1 = sin(2.68 * x2 + -2.52)\n",
      "y1 = -2.24 * k1 + 0.29738835\n"
     ]
    },
    {
     "data": {
      "application/json": {
       "ascii": false,
       "bar_format": null,
       "colour": null,
       "elapsed": 0.012572765350341797,
       "initial": 0,
       "n": 0,
       "ncols": null,
       "nrows": null,
       "postfix": null,
       "prefix": "",
       "rate": null,
       "total": 0,
       "unit": "it",
       "unit_divisor": 1000,
       "unit_scale": false
      },
      "application/vnd.jupyter.widget-view+json": {
       "model_id": "983467966d1a41d59a2ee4f63eed1eeb",
       "version_major": 2,
       "version_minor": 0
      },
      "text/plain": [
       "0it [00:00, ?it/s]"
      ]
     },
     "metadata": {},
     "output_type": "display_data"
    },
    {
     "name": "stdout",
     "output_type": "stream",
     "text": [
      "Model:\n",
      "k1 = sin(2.67 * x2 + -1.88)\n",
      "y1 = -2.19 * k1 + 0.56886053\n"
     ]
    },
    {
     "data": {
      "application/json": {
       "ascii": false,
       "bar_format": null,
       "colour": null,
       "elapsed": 0.013169527053833008,
       "initial": 0,
       "n": 0,
       "ncols": null,
       "nrows": null,
       "postfix": null,
       "prefix": "",
       "rate": null,
       "total": 0,
       "unit": "it",
       "unit_divisor": 1000,
       "unit_scale": false
      },
      "application/vnd.jupyter.widget-view+json": {
       "model_id": "01d813fb492148a2add04fa043f3e9e7",
       "version_major": 2,
       "version_minor": 0
      },
      "text/plain": [
       "0it [00:00, ?it/s]"
      ]
     },
     "metadata": {},
     "output_type": "display_data"
    },
    {
     "name": "stdout",
     "output_type": "stream",
     "text": [
      "Model:\n",
      "k1 = sin(1.85 * x2 + -2.32)\n",
      "y1 = -2.04 * k1 + 0.64289635\n"
     ]
    }
   ],
   "source": [
    "sampledParticipants = [10, 20, 30]\n",
    "\n",
    "for participant in sampledParticipants:\n",
    "        #To be explicit (although techinically unecessary), we will force the same, fixed architecture\n",
    "        darts_estimator.network_ = fixedArchitecture\n",
    "\n",
    "        #Determine final DARTS Architecture \n",
    "        darts_estimator.set_params(\n",
    "            max_epochs = 0,\n",
    "            arch_updates_per_epoch = 0,\n",
    "            num_graph_nodes = 1,\n",
    "            param_learning_rate_max = .025,\n",
    "            arch_weight_decay_df = .01,\n",
    "            arch_learning_rate_max = .01\n",
    "        )\n",
    "\n",
    "        #Split current data\n",
    "        X_test = featuresData[participant,1:]\n",
    "        X_test = X_test.reshape(1, -1)\n",
    "        y_test = featuresData[participant,0]\n",
    "\n",
    "        X_train = featuresData[:,1:]\n",
    "        X_train = np.delete(X_train, participant, 0)\n",
    "        y_train = featuresData[:,0]\n",
    "        y_train = np.delete(y_train, participant)\n",
    "\n",
    "        #Fit the new coefficients \n",
    "        darts_estimator.fit(X_train, y_train)\n",
    "\n",
    "        print(darts_estimator.model_repr())\n",
    "        darts_estimator.visualize_model()"
   ]
  }
 ],
 "metadata": {
  "kernelspec": {
   "display_name": "Python 3 (ipykernel)",
   "language": "python",
   "name": "python3"
  },
  "language_info": {
   "codemirror_mode": {
    "name": "ipython",
    "version": 3
   },
   "file_extension": ".py",
   "mimetype": "text/x-python",
   "name": "python",
   "nbconvert_exporter": "python",
   "pygments_lexer": "ipython3",
   "version": "3.8.13"
  },
  "vscode": {
   "interpreter": {
    "hash": "8b8a14f8b8efb0c3b75845d00dd06fa81689b5b4d608e142ab559b13d684ddcb"
   }
  }
 },
 "nbformat": 4,
 "nbformat_minor": 2
}
